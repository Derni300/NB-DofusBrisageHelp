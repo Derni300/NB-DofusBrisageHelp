{
 "cells": [
  {
   "cell_type": "markdown",
   "source": [
    "NOTEBOOK D'OPTIMISATION DE BRISAGE [FR]"
   ],
   "metadata": {
    "collapsed": false
   },
   "id": "73aa598b132c8312"
  },
  {
   "cell_type": "code",
   "execution_count": 4,
   "outputs": [],
   "source": [
    "import pandas as pd\n",
    "import numpy as np\n",
    "import json"
   ],
   "metadata": {
    "collapsed": false,
    "ExecuteTime": {
     "end_time": "2024-01-05T03:50:11.799457800Z",
     "start_time": "2024-01-05T03:50:11.735561700Z"
    }
   },
   "id": "17f5017a1545af55"
  },
  {
   "cell_type": "code",
   "execution_count": 5,
   "outputs": [],
   "source": [
    "# Charger les données depuis les fichiers JSON\n",
    "with open('data/equipement.json', 'r') as file:\n",
    "    equipement_json = file.read()\n",
    "\n",
    "with open('data/ressource.json', 'r') as file:\n",
    "    ressource_json = file.read()\n",
    "\n",
    "with open('data/rune.json', 'r') as file:\n",
    "    runes_json = file.read()\n",
    "\n",
    "equipement = json.loads(equipement_json)\n",
    "ressources = json.loads(ressource_json)\n",
    "runes = json.loads(runes_json)"
   ],
   "metadata": {
    "collapsed": false,
    "ExecuteTime": {
     "end_time": "2024-01-05T03:50:11.870867800Z",
     "start_time": "2024-01-05T03:50:11.800412800Z"
    }
   },
   "id": "4696039e96c56ad3"
  },
  {
   "cell_type": "code",
   "execution_count": 6,
   "id": "initial_id",
   "metadata": {
    "collapsed": true,
    "ExecuteTime": {
     "end_time": "2024-01-05T03:50:11.912301100Z",
     "start_time": "2024-01-05T03:50:11.855596700Z"
    }
   },
   "outputs": [
    {
     "name": "stdout",
     "output_type": "stream",
     "text": [
      "{'cout': 67250, 'gain': 96480}\n"
     ]
    }
   ],
   "source": [
    "def rentabilite(nom_equipement: str):\n",
    "    # Trouver l'équipement spécifique par son nom\n",
    "    equipement_specifique = next((item for item in equipement if item['nom'] == nom_equipement), None)\n",
    "\n",
    "    if equipement_specifique:\n",
    "        # Calculer le coût total\n",
    "        cout_total = 0\n",
    "        for ressource_equipement in equipement_specifique['ressource']:\n",
    "            nom_ressource = ressource_equipement['nom']\n",
    "            quantite_ressource = ressource_equipement['quantite']\n",
    "\n",
    "            # Trouver le prix de la ressource dans le fichier des ressources\n",
    "            prix_ressource = next(item['prix'] for item in ressources if item['nom'] == nom_ressource)\n",
    "\n",
    "            # Ajouter le coût de la ressource à la somme totale\n",
    "            cout_total += quantite_ressource * prix_ressource\n",
    "\n",
    "        # Calculer le gain total\n",
    "        quantite_rune = equipement_specifique['brisage']['rune']['quantite']\n",
    "        nom_rune = equipement_specifique['brisage']['rune']['nom']\n",
    "\n",
    "        # Trouver le prix de la rune dans le fichier des runes\n",
    "        prix_rune = next(item['prix'] for item in runes if item['nom'] == nom_rune)\n",
    "\n",
    "        gain_total = quantite_rune * prix_rune\n",
    "\n",
    "        return {'cout': cout_total, 'gain': gain_total}\n",
    "\n",
    "    else:\n",
    "        return 'EQUIPEMENT INTROUVABLE'\n",
    "\n",
    "\n",
    "print(rentabilite('Pagne du Muloubar'))"
   ]
  },
  {
   "cell_type": "code",
   "execution_count": 6,
   "outputs": [],
   "source": [],
   "metadata": {
    "collapsed": false,
    "ExecuteTime": {
     "end_time": "2024-01-05T03:50:11.952941100Z",
     "start_time": "2024-01-05T03:50:11.891733Z"
    }
   },
   "id": "8452ce5d0d0c484e"
  }
 ],
 "metadata": {
  "kernelspec": {
   "display_name": "Python 3",
   "language": "python",
   "name": "python3"
  },
  "language_info": {
   "codemirror_mode": {
    "name": "ipython",
    "version": 2
   },
   "file_extension": ".py",
   "mimetype": "text/x-python",
   "name": "python",
   "nbconvert_exporter": "python",
   "pygments_lexer": "ipython2",
   "version": "2.7.6"
  }
 },
 "nbformat": 4,
 "nbformat_minor": 5
}
